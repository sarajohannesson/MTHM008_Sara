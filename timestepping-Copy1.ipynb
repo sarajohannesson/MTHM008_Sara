{
 "cells": [
  {
   "cell_type": "markdown",
   "metadata": {},
   "source": [
    "# Discretising the Lotka-Volterra model\n",
    "## Overview\n",
    "In this worksheet we will consider the Lotka-Volterra model and discretise it using a finite difference method. In particular:\n",
    "we will use a forward Euler method to approximate the derivatives in the Lotka-Volterra model;\n",
    "we will analyse the behaviour of the model numerically;\n",
    "we will attempt to fit the parameters of the model to our data."
   ]
  },
  {
   "cell_type": "markdown",
   "metadata": {},
   "source": [
    "## The Lotka-Volterra model\n",
    "One approach to modelling predator-prey interactions, such as those in the hare-lynx data, is using a Lotka-Volterra model:\n",
    "\\begin{align*}\n",
    "\\frac{\\mathrm{d} H}{\\mathrm{d} t} &= \\alpha H - \\beta H L \\; ,\\\\\n",
    "\\frac{\\mathrm{d} L}{\\mathrm{d} t} &= \\delta H L - \\gamma L \\; ,\n",
    "\\end{align*}\n",
    "where $H$ and $L$ represent the number of hare and lynx respectively, and $\\alpha$, $\\beta$, $\\gamma$ and $\\delta$ are positive real parameters."
   ]
  },
  {
   "cell_type": "markdown",
   "metadata": {},
   "source": [
    "### Exercises\n",
    "- Find out what each term in the equations represent and ensure you can explain how to derive these equations.\n",
    "- To what extent is each term physically realistic?  How might you adapt the terms to make them more physically realistic?"
   ]
  },
  {
   "cell_type": "markdown",
   "metadata": {},
   "source": [
    "## The Forward Euler approximation\n",
    "Given an ODE of the form \n",
    "\n",
    "\\begin{equation}\n",
    "\\frac{d{\\bf{y}}}{dt} = {\\bf{f}}({\\bf{y}}), \\quad t\\ge t_0, \\quad {\\bf{y}}(t_0)={\\bf{y}}_0\n",
    "\\end{equation}\n",
    "we wish to find the value of ${\\bf{y}}$ at a discrete set of evenly distributed points $t_1, t_2, ..., t_n$.\n",
    "\n",
    "Integrating our ODE between $t_i$ and $t_{i+1}$ gives\n",
    "\\begin{align}\n",
    "{\\bf{y}}(t_{i+1}) &= {\\bf{y}}(t_i) + \\int_{t_i}^{t_{i+1}}{\\bf{f}}({\\bf{y}}(\\tau)) d\\tau \\\\\n",
    "&\\approx {\\bf{y}}(t_i) + (t_{i+1}-t_i){\\bf{f}}({\\bf{y}}_i) \\\\\n",
    "&= {\\bf{y}}(t_i) + \\Delta t{\\bf{f}}({\\bf{y}}_i)\n",
    "\\end{align}\n",
    "where $\\Delta t$ is the (constant) distance between our time points and ${\\bf{y}}_i = {\\bf{y}}(t_i)$."
   ]
  },
  {
   "cell_type": "markdown",
   "metadata": {},
   "source": [
    "We can now write some pseudocode for our algorithm applied to the Lotka-Volterra model:\n",
    "\n",
    "1. initialise H, L, the model parameters $\\alpha$, $\\beta$, $\\gamma$ and $\\delta$, the start time $t_0$, our timestep $\\Delta t$ and an end time $t_{max}$\n",
    "\n",
    "2. write a loop to update the values according to:\n",
    "\\begin{align}\n",
    "  H_{i+1} &= H_i + \\Delta t (\\alpha H_i - \\beta H_i L_i) \\\\\n",
    "  L_{i+1} &= L_i + \\Delta t (\\delta H_i L_i - \\gamma L_i) \\\\\n",
    "  t_{i+1} &= t_i + \\Delta t\n",
    "\\end{align}\n",
    "\n",
    "3. plot the data"
   ]
  },
  {
   "cell_type": "code",
   "execution_count": null,
   "metadata": {},
   "outputs": [],
   "source": [
    "# specify parameters for the model\n",
    "\n",
    "H = 21\n",
    "L = 49\n",
    "t_i = 184\n",
    "\n",
    "# create lists to store data for plotting\n",
    "\n",
    "# initialise time, and hare and lynx populations Hi and Li\n",
    "\n",
    "# timestepping loop\n",
    "while t < t_max:\n",
    "\n",
    "    # append newest values to lists\n",
    "\n",
    "    # update Hi and Li to continue timestepping\n",
    "\n"
   ]
  },
  {
   "cell_type": "code",
   "execution_count": null,
   "metadata": {},
   "outputs": [],
   "source": [
    "import matplotlib.pyplot as plt\n",
    "# assuming you have stored your values in lists called time, hare and lynx - otherwise amend the below accordingly\n",
    "plt.plot(time, hare)\n",
    "plt.plot(time, lynx)\n",
    "plt.show()"
   ]
  },
  {
   "cell_type": "code",
   "execution_count": null,
   "metadata": {},
   "outputs": [],
   "source": [
    "plt.plot(hare, lynx)\n",
    "plt.show()"
   ]
  },
  {
   "cell_type": "markdown",
   "metadata": {},
   "source": [
    "### Exercises\n",
    "Experiment with different values for the parameters and timestep.\n",
    "- How does the behaviour of the model change as the parameters vary?\n",
    "- Does the model always demonstrate periodicity?\n",
    "- How does varying the timestep affect the solution?"
   ]
  },
  {
   "cell_type": "markdown",
   "metadata": {},
   "source": [
    "## The Modified Euler approximation\n",
    "Note that when we solve for $L_{i+1}$ we are using the value for $H_i$ but we already have a new estimate, $H_{i+1}$ for the hare populations. What happens if we amend the code to use this value to calculate $L_{i+1}$, as described by the equations below?\n",
    "\n",
    "\\begin{align}\n",
    "  H_{i+1} &= H_i + \\Delta t (\\alpha H_i - \\beta H_i L_i) \\\\\n",
    "  L_{i+1} &= L_i + \\Delta t (\\delta H_{i+1} L_i - \\gamma L_i) \\\\\n",
    "  t_{i+1} &= t_i + \\Delta t\n",
    "\\end{align}\n",
    "\n",
    "Does this algorithm produce different results? Are they better or worse? Can you explain why?"
   ]
  },
  {
   "cell_type": "markdown",
   "metadata": {},
   "source": [
    "## Estimating the parameters\n",
    "We could continue with a trial and error approach to improving the parameters of the Lotka-Volterra model, but we can also try to estimate the parameters from the data we have.\n",
    "\n",
    "We know the hare population values $H_0 = 21$, $H_1 = 12$ and $H_2 = 24$ for the years 1847-1849, and similarly we know the corresponding lynx population values $L_0 = 49$, $L_1 = 21$, $L_2 = 9$.\n",
    "\n",
    "Substituting into our finite difference approximation gives\n",
    "\\begin{align*}\n",
    "-9 = \\frac{12-21}{1848-1847} = \\frac{H_1-H_0}{t_1-t_0} &= \\alpha H_0 - \\beta H_0 L_0 = 21\\alpha - 21 \\times 49 \\beta \\; ,\\\\\n",
    "-28 = \\frac{21-49}{1848-1847} = \\frac{L_1-L_0}{t_1-t_0} &= \\delta H_0 L_0 - \\gamma L_0 = 21 \\times 49 \\delta - 49 \\gamma\\; ,\\\\\n",
    "12 = \\frac{24-12}{1849-1848} = \\frac{H_2-H_1}{t_2-t_1} &= \\alpha H_1 - \\beta H_1 L_1 = 12\\alpha - 12 \\times 21 \\beta\\; ,\\\\\n",
    "-12 = \\frac{9-21}{1849-1848} = \\frac{L_2-L_1}{t_2-t_1} &= \\delta H_1 L_1 - \\gamma L_1 = 12 \\times 21 \\delta - 21 \\gamma \\; .\n",
    "\\end{align*}"
   ]
  },
  {
   "cell_type": "markdown",
   "metadata": {},
   "source": [
    "This gives us four linear equations in four unknowns, so provided they aren't degenerate we should be able to solve uniquely for the parameters $\\alpha$, $\\beta$, $\\gamma$ and $\\delta$.\n",
    "\n",
    "We could do this by hand, but let's get Python and the numpy module to do the work for us!  To do so, let's rearrange it all into a matrix equation:\n",
    "$$ \\begin{bmatrix} 21 & -1029 & 0 & 0 \\\\ 0 & 0 & -49 & 1029 \\\\ 12 & -252 & 0 & 0 \\\\ 0 & 0 & -21 & 252 \\end{bmatrix} \\begin{bmatrix} \\alpha \\\\ \\beta \\\\ \\gamma \\\\ \\delta \\end{bmatrix} = \\begin{bmatrix} -9 \\\\ -28 \\\\ 12 \\\\ -12 \\end{bmatrix} \\; .$$\n",
    "\n",
    "Now we can do the calculation using numpy arrays."
   ]
  },
  {
   "cell_type": "code",
   "execution_count": null,
   "metadata": {},
   "outputs": [],
   "source": [
    "import numpy as np\n",
    "\n",
    "A = np.array([[21,-1029,0,0],[0,0,-49,1029],[12,-252,0,0],[0,0,-21,252]])\n",
    "b = np.array([[-9],[-28],[12],[-12]])\n",
    "x = np.linalg.solve(A, b)\n",
    "print(x)"
   ]
  },
  {
   "cell_type": "markdown",
   "metadata": {},
   "source": [
    "### Exercise\n",
    "The solution $\\delta=0$ is going to cause problems (find out why!) and the parameters are supposed to be positive, so add a small amount and look at the behaviour of your model."
   ]
  },
  {
   "cell_type": "code",
   "execution_count": null,
   "metadata": {},
   "outputs": [],
   "source": []
  }
 ],
 "metadata": {
  "kernelspec": {
   "display_name": "Python 3",
   "language": "python",
   "name": "python3"
  },
  "language_info": {
   "codemirror_mode": {
    "name": "ipython",
    "version": 3
   },
   "file_extension": ".py",
   "mimetype": "text/x-python",
   "name": "python",
   "nbconvert_exporter": "python",
   "pygments_lexer": "ipython3",
   "version": "3.8.5"
  }
 },
 "nbformat": 4,
 "nbformat_minor": 4
}
